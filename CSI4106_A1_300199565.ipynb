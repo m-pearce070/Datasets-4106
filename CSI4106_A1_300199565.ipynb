{
  "cells": [
    {
      "cell_type": "markdown",
      "metadata": {
        "id": "view-in-github",
        "colab_type": "text"
      },
      "source": [
        "<a href=\"https://colab.research.google.com/github/m-pearce070/Datasets-4106/blob/main/CSI4106_A1_300199565.ipynb\" target=\"_parent\"><img src=\"https://colab.research.google.com/assets/colab-badge.svg\" alt=\"Open In Colab\"/></a>"
      ]
    },
    {
      "cell_type": "markdown",
      "source": [
        "**ASSIGNMENT 1 - EMPIRICAL STUDY OF KNAPSACK PROBLEM**"
      ],
      "metadata": {
        "id": "SPeulvp-meob"
      }
    },
    {
      "cell_type": "markdown",
      "source": [
        "**1. Group Description**\n",
        "\n",
        "Group Number: \\\\\n",
        "Member Names: Matthew Pearce \\\\\n",
        "Member Student Numbers: 200199565 \\\\"
      ],
      "metadata": {
        "id": "f2Eeke4Z_EkW"
      }
    },
    {
      "cell_type": "markdown",
      "source": [
        "**2. Knapsack Problem**\n",
        "\n",
        "Give a description of the problem tackled."
      ],
      "metadata": {
        "id": "Yq6OGiMX_da0"
      }
    },
    {
      "cell_type": "markdown",
      "source": [
        "**3. Dataset**\n",
        "\n",
        "Give a description of the dataset used with references.  "
      ],
      "metadata": {
        "id": "C8vwHE0G_iOG"
      }
    },
    {
      "cell_type": "markdown",
      "source": [
        "**Import important libraries**"
      ],
      "metadata": {
        "id": "OZTWy1qN2BzY"
      }
    },
    {
      "cell_type": "code",
      "execution_count": 39,
      "metadata": {
        "id": "GmP1buROhaOx"
      },
      "outputs": [],
      "source": [
        "import pandas as pd\n",
        "import itertools\n",
        "import numpy as np"
      ]
    },
    {
      "cell_type": "markdown",
      "source": [
        "**Read Dataset**\n",
        "\n",
        "As outlined in the project description, it should be possible for the correctors to execute your notebook without requiring any downloads.\n",
        "\n",
        "To facilitate access to the dataset without the need for downloads, you can upload it to a public GitHub repository and provide a link to the raw version of the dataset.\n",
        "\n",
        "The link to the raw version is as follows:\n",
        "*https://raw.githubusercontent.com/GITHUB_USERNAME/REPOSITORY_NAME/main/DATASETNAME.csv*\n",
        "\n",
        "For example:\n",
        "\n",
        "https://raw.githubusercontent.com/baharin/KnapsackProblem/main/knapsack_5_items.csv\n",
        "\n",
        "Now provide the link to YOUR dataset and read the dataset using pandas:"
      ],
      "metadata": {
        "id": "wNJyoeCz00Kr"
      }
    },
    {
      "cell_type": "code",
      "execution_count": 40,
      "metadata": {
        "id": "BrhpM-HwhaOy"
      },
      "outputs": [],
      "source": [
        "url = \"https://raw.githubusercontent.com/m-pearce070/Datasets-4106/main/knapsack_5_items.csv\"\n",
        "\n",
        "dataset = pd.read_csv(url)"
      ]
    },
    {
      "cell_type": "markdown",
      "source": [
        "Let's see what are the columns of the dataset? :"
      ],
      "metadata": {
        "id": "4Drc71BY2a7w"
      }
    },
    {
      "cell_type": "code",
      "execution_count": 41,
      "metadata": {
        "colab": {
          "base_uri": "https://localhost:8080/"
        },
        "id": "pGxZXmhNhaOz",
        "outputId": "d99a36af-8146-4f99-9977-7a8b0a0e5bde"
      },
      "outputs": [
        {
          "output_type": "execute_result",
          "data": {
            "text/plain": [
              "Index(['Weights', 'Prices', 'Capacity', 'Best picks', 'Best price'], dtype='object')"
            ]
          },
          "metadata": {},
          "execution_count": 41
        }
      ],
      "source": [
        "dataset.columns"
      ]
    },
    {
      "cell_type": "markdown",
      "source": [
        "As we expected, we have columns for weights, costs, capacity, best picks and best price for all the instances."
      ],
      "metadata": {
        "id": "aNZaqcCT2w-T"
      }
    },
    {
      "cell_type": "markdown",
      "source": [
        "Now let's see the first 10 entries (rows):"
      ],
      "metadata": {
        "id": "jkokOHRj2kgZ"
      }
    },
    {
      "cell_type": "code",
      "execution_count": 42,
      "metadata": {
        "colab": {
          "base_uri": "https://localhost:8080/",
          "height": 363
        },
        "id": "0xqfPrBEhaOz",
        "outputId": "78e89584-d30c-463c-dac5-ac72f8b207aa"
      },
      "outputs": [
        {
          "output_type": "execute_result",
          "data": {
            "text/plain": [
              "            Weights            Prices  Capacity        Best picks  Best price\n",
              "0  [46 40 42 38 10]  [12 19 19 15  8]        40  [0. 1. 0. 0. 0.]          19\n",
              "1  [11 31  4  6  7]  [ 2  8 18 16  3]        64  [1. 1. 1. 1. 1.]          47\n",
              "2  [32 49 27 37 24]  [19 16 16  4  1]        87  [1. 0. 1. 0. 1.]          36\n",
              "3  [20 35 22 23 16]  [19 17 19  9  1]        21  [1. 0. 0. 0. 0.]          19\n",
              "4  [ 7 12 19 13 20]  [10 11 18 15  5]        50  [0. 1. 1. 1. 0.]          44\n",
              "5  [27 10 25 25  7]  [13 19  7 16  3]        66  [1. 1. 0. 1. 0.]          48\n",
              "6  [21  2 33 45 26]  [ 1 14 10  6 13]        80  [0. 1. 1. 0. 1.]          37\n",
              "7  [37 27 39 14 25]  [18  7 15  4 13]        35  [0. 0. 0. 0. 1.]          13\n",
              "8  [ 1 48  4 23 39]  [ 9  4 10 16 12]        51  [1. 0. 1. 1. 0.]          35\n",
              "9  [ 4  3 22  9 32]  [14  6  3 17  8]        53  [1. 1. 0. 1. 1.]          45"
            ],
            "text/html": [
              "\n",
              "  <div id=\"df-f394c5bf-3d67-4ef0-90d6-559f7638ddbf\" class=\"colab-df-container\">\n",
              "    <div>\n",
              "<style scoped>\n",
              "    .dataframe tbody tr th:only-of-type {\n",
              "        vertical-align: middle;\n",
              "    }\n",
              "\n",
              "    .dataframe tbody tr th {\n",
              "        vertical-align: top;\n",
              "    }\n",
              "\n",
              "    .dataframe thead th {\n",
              "        text-align: right;\n",
              "    }\n",
              "</style>\n",
              "<table border=\"1\" class=\"dataframe\">\n",
              "  <thead>\n",
              "    <tr style=\"text-align: right;\">\n",
              "      <th></th>\n",
              "      <th>Weights</th>\n",
              "      <th>Prices</th>\n",
              "      <th>Capacity</th>\n",
              "      <th>Best picks</th>\n",
              "      <th>Best price</th>\n",
              "    </tr>\n",
              "  </thead>\n",
              "  <tbody>\n",
              "    <tr>\n",
              "      <th>0</th>\n",
              "      <td>[46 40 42 38 10]</td>\n",
              "      <td>[12 19 19 15  8]</td>\n",
              "      <td>40</td>\n",
              "      <td>[0. 1. 0. 0. 0.]</td>\n",
              "      <td>19</td>\n",
              "    </tr>\n",
              "    <tr>\n",
              "      <th>1</th>\n",
              "      <td>[11 31  4  6  7]</td>\n",
              "      <td>[ 2  8 18 16  3]</td>\n",
              "      <td>64</td>\n",
              "      <td>[1. 1. 1. 1. 1.]</td>\n",
              "      <td>47</td>\n",
              "    </tr>\n",
              "    <tr>\n",
              "      <th>2</th>\n",
              "      <td>[32 49 27 37 24]</td>\n",
              "      <td>[19 16 16  4  1]</td>\n",
              "      <td>87</td>\n",
              "      <td>[1. 0. 1. 0. 1.]</td>\n",
              "      <td>36</td>\n",
              "    </tr>\n",
              "    <tr>\n",
              "      <th>3</th>\n",
              "      <td>[20 35 22 23 16]</td>\n",
              "      <td>[19 17 19  9  1]</td>\n",
              "      <td>21</td>\n",
              "      <td>[1. 0. 0. 0. 0.]</td>\n",
              "      <td>19</td>\n",
              "    </tr>\n",
              "    <tr>\n",
              "      <th>4</th>\n",
              "      <td>[ 7 12 19 13 20]</td>\n",
              "      <td>[10 11 18 15  5]</td>\n",
              "      <td>50</td>\n",
              "      <td>[0. 1. 1. 1. 0.]</td>\n",
              "      <td>44</td>\n",
              "    </tr>\n",
              "    <tr>\n",
              "      <th>5</th>\n",
              "      <td>[27 10 25 25  7]</td>\n",
              "      <td>[13 19  7 16  3]</td>\n",
              "      <td>66</td>\n",
              "      <td>[1. 1. 0. 1. 0.]</td>\n",
              "      <td>48</td>\n",
              "    </tr>\n",
              "    <tr>\n",
              "      <th>6</th>\n",
              "      <td>[21  2 33 45 26]</td>\n",
              "      <td>[ 1 14 10  6 13]</td>\n",
              "      <td>80</td>\n",
              "      <td>[0. 1. 1. 0. 1.]</td>\n",
              "      <td>37</td>\n",
              "    </tr>\n",
              "    <tr>\n",
              "      <th>7</th>\n",
              "      <td>[37 27 39 14 25]</td>\n",
              "      <td>[18  7 15  4 13]</td>\n",
              "      <td>35</td>\n",
              "      <td>[0. 0. 0. 0. 1.]</td>\n",
              "      <td>13</td>\n",
              "    </tr>\n",
              "    <tr>\n",
              "      <th>8</th>\n",
              "      <td>[ 1 48  4 23 39]</td>\n",
              "      <td>[ 9  4 10 16 12]</td>\n",
              "      <td>51</td>\n",
              "      <td>[1. 0. 1. 1. 0.]</td>\n",
              "      <td>35</td>\n",
              "    </tr>\n",
              "    <tr>\n",
              "      <th>9</th>\n",
              "      <td>[ 4  3 22  9 32]</td>\n",
              "      <td>[14  6  3 17  8]</td>\n",
              "      <td>53</td>\n",
              "      <td>[1. 1. 0. 1. 1.]</td>\n",
              "      <td>45</td>\n",
              "    </tr>\n",
              "  </tbody>\n",
              "</table>\n",
              "</div>\n",
              "    <div class=\"colab-df-buttons\">\n",
              "\n",
              "  <div class=\"colab-df-container\">\n",
              "    <button class=\"colab-df-convert\" onclick=\"convertToInteractive('df-f394c5bf-3d67-4ef0-90d6-559f7638ddbf')\"\n",
              "            title=\"Convert this dataframe to an interactive table.\"\n",
              "            style=\"display:none;\">\n",
              "\n",
              "  <svg xmlns=\"http://www.w3.org/2000/svg\" height=\"24px\" viewBox=\"0 -960 960 960\">\n",
              "    <path d=\"M120-120v-720h720v720H120Zm60-500h600v-160H180v160Zm220 220h160v-160H400v160Zm0 220h160v-160H400v160ZM180-400h160v-160H180v160Zm440 0h160v-160H620v160ZM180-180h160v-160H180v160Zm440 0h160v-160H620v160Z\"/>\n",
              "  </svg>\n",
              "    </button>\n",
              "\n",
              "  <style>\n",
              "    .colab-df-container {\n",
              "      display:flex;\n",
              "      gap: 12px;\n",
              "    }\n",
              "\n",
              "    .colab-df-convert {\n",
              "      background-color: #E8F0FE;\n",
              "      border: none;\n",
              "      border-radius: 50%;\n",
              "      cursor: pointer;\n",
              "      display: none;\n",
              "      fill: #1967D2;\n",
              "      height: 32px;\n",
              "      padding: 0 0 0 0;\n",
              "      width: 32px;\n",
              "    }\n",
              "\n",
              "    .colab-df-convert:hover {\n",
              "      background-color: #E2EBFA;\n",
              "      box-shadow: 0px 1px 2px rgba(60, 64, 67, 0.3), 0px 1px 3px 1px rgba(60, 64, 67, 0.15);\n",
              "      fill: #174EA6;\n",
              "    }\n",
              "\n",
              "    .colab-df-buttons div {\n",
              "      margin-bottom: 4px;\n",
              "    }\n",
              "\n",
              "    [theme=dark] .colab-df-convert {\n",
              "      background-color: #3B4455;\n",
              "      fill: #D2E3FC;\n",
              "    }\n",
              "\n",
              "    [theme=dark] .colab-df-convert:hover {\n",
              "      background-color: #434B5C;\n",
              "      box-shadow: 0px 1px 3px 1px rgba(0, 0, 0, 0.15);\n",
              "      filter: drop-shadow(0px 1px 2px rgba(0, 0, 0, 0.3));\n",
              "      fill: #FFFFFF;\n",
              "    }\n",
              "  </style>\n",
              "\n",
              "    <script>\n",
              "      const buttonEl =\n",
              "        document.querySelector('#df-f394c5bf-3d67-4ef0-90d6-559f7638ddbf button.colab-df-convert');\n",
              "      buttonEl.style.display =\n",
              "        google.colab.kernel.accessAllowed ? 'block' : 'none';\n",
              "\n",
              "      async function convertToInteractive(key) {\n",
              "        const element = document.querySelector('#df-f394c5bf-3d67-4ef0-90d6-559f7638ddbf');\n",
              "        const dataTable =\n",
              "          await google.colab.kernel.invokeFunction('convertToInteractive',\n",
              "                                                    [key], {});\n",
              "        if (!dataTable) return;\n",
              "\n",
              "        const docLinkHtml = 'Like what you see? Visit the ' +\n",
              "          '<a target=\"_blank\" href=https://colab.research.google.com/notebooks/data_table.ipynb>data table notebook</a>'\n",
              "          + ' to learn more about interactive tables.';\n",
              "        element.innerHTML = '';\n",
              "        dataTable['output_type'] = 'display_data';\n",
              "        await google.colab.output.renderOutput(dataTable, element);\n",
              "        const docLink = document.createElement('div');\n",
              "        docLink.innerHTML = docLinkHtml;\n",
              "        element.appendChild(docLink);\n",
              "      }\n",
              "    </script>\n",
              "  </div>\n",
              "\n",
              "\n",
              "<div id=\"df-5d71437a-dec5-495b-8d1d-e1296c8afdbe\">\n",
              "  <button class=\"colab-df-quickchart\" onclick=\"quickchart('df-5d71437a-dec5-495b-8d1d-e1296c8afdbe')\"\n",
              "            title=\"Suggest charts.\"\n",
              "            style=\"display:none;\">\n",
              "\n",
              "<svg xmlns=\"http://www.w3.org/2000/svg\" height=\"24px\"viewBox=\"0 0 24 24\"\n",
              "     width=\"24px\">\n",
              "    <g>\n",
              "        <path d=\"M19 3H5c-1.1 0-2 .9-2 2v14c0 1.1.9 2 2 2h14c1.1 0 2-.9 2-2V5c0-1.1-.9-2-2-2zM9 17H7v-7h2v7zm4 0h-2V7h2v10zm4 0h-2v-4h2v4z\"/>\n",
              "    </g>\n",
              "</svg>\n",
              "  </button>\n",
              "\n",
              "<style>\n",
              "  .colab-df-quickchart {\n",
              "      --bg-color: #E8F0FE;\n",
              "      --fill-color: #1967D2;\n",
              "      --hover-bg-color: #E2EBFA;\n",
              "      --hover-fill-color: #174EA6;\n",
              "      --disabled-fill-color: #AAA;\n",
              "      --disabled-bg-color: #DDD;\n",
              "  }\n",
              "\n",
              "  [theme=dark] .colab-df-quickchart {\n",
              "      --bg-color: #3B4455;\n",
              "      --fill-color: #D2E3FC;\n",
              "      --hover-bg-color: #434B5C;\n",
              "      --hover-fill-color: #FFFFFF;\n",
              "      --disabled-bg-color: #3B4455;\n",
              "      --disabled-fill-color: #666;\n",
              "  }\n",
              "\n",
              "  .colab-df-quickchart {\n",
              "    background-color: var(--bg-color);\n",
              "    border: none;\n",
              "    border-radius: 50%;\n",
              "    cursor: pointer;\n",
              "    display: none;\n",
              "    fill: var(--fill-color);\n",
              "    height: 32px;\n",
              "    padding: 0;\n",
              "    width: 32px;\n",
              "  }\n",
              "\n",
              "  .colab-df-quickchart:hover {\n",
              "    background-color: var(--hover-bg-color);\n",
              "    box-shadow: 0 1px 2px rgba(60, 64, 67, 0.3), 0 1px 3px 1px rgba(60, 64, 67, 0.15);\n",
              "    fill: var(--button-hover-fill-color);\n",
              "  }\n",
              "\n",
              "  .colab-df-quickchart-complete:disabled,\n",
              "  .colab-df-quickchart-complete:disabled:hover {\n",
              "    background-color: var(--disabled-bg-color);\n",
              "    fill: var(--disabled-fill-color);\n",
              "    box-shadow: none;\n",
              "  }\n",
              "\n",
              "  .colab-df-spinner {\n",
              "    border: 2px solid var(--fill-color);\n",
              "    border-color: transparent;\n",
              "    border-bottom-color: var(--fill-color);\n",
              "    animation:\n",
              "      spin 1s steps(1) infinite;\n",
              "  }\n",
              "\n",
              "  @keyframes spin {\n",
              "    0% {\n",
              "      border-color: transparent;\n",
              "      border-bottom-color: var(--fill-color);\n",
              "      border-left-color: var(--fill-color);\n",
              "    }\n",
              "    20% {\n",
              "      border-color: transparent;\n",
              "      border-left-color: var(--fill-color);\n",
              "      border-top-color: var(--fill-color);\n",
              "    }\n",
              "    30% {\n",
              "      border-color: transparent;\n",
              "      border-left-color: var(--fill-color);\n",
              "      border-top-color: var(--fill-color);\n",
              "      border-right-color: var(--fill-color);\n",
              "    }\n",
              "    40% {\n",
              "      border-color: transparent;\n",
              "      border-right-color: var(--fill-color);\n",
              "      border-top-color: var(--fill-color);\n",
              "    }\n",
              "    60% {\n",
              "      border-color: transparent;\n",
              "      border-right-color: var(--fill-color);\n",
              "    }\n",
              "    80% {\n",
              "      border-color: transparent;\n",
              "      border-right-color: var(--fill-color);\n",
              "      border-bottom-color: var(--fill-color);\n",
              "    }\n",
              "    90% {\n",
              "      border-color: transparent;\n",
              "      border-bottom-color: var(--fill-color);\n",
              "    }\n",
              "  }\n",
              "</style>\n",
              "\n",
              "  <script>\n",
              "    async function quickchart(key) {\n",
              "      const quickchartButtonEl =\n",
              "        document.querySelector('#' + key + ' button');\n",
              "      quickchartButtonEl.disabled = true;  // To prevent multiple clicks.\n",
              "      quickchartButtonEl.classList.add('colab-df-spinner');\n",
              "      try {\n",
              "        const charts = await google.colab.kernel.invokeFunction(\n",
              "            'suggestCharts', [key], {});\n",
              "      } catch (error) {\n",
              "        console.error('Error during call to suggestCharts:', error);\n",
              "      }\n",
              "      quickchartButtonEl.classList.remove('colab-df-spinner');\n",
              "      quickchartButtonEl.classList.add('colab-df-quickchart-complete');\n",
              "    }\n",
              "    (() => {\n",
              "      let quickchartButtonEl =\n",
              "        document.querySelector('#df-5d71437a-dec5-495b-8d1d-e1296c8afdbe button');\n",
              "      quickchartButtonEl.style.display =\n",
              "        google.colab.kernel.accessAllowed ? 'block' : 'none';\n",
              "    })();\n",
              "  </script>\n",
              "</div>\n",
              "    </div>\n",
              "  </div>\n"
            ]
          },
          "metadata": {},
          "execution_count": 42
        }
      ],
      "source": [
        "dataset.head(10)"
      ]
    },
    {
      "cell_type": "markdown",
      "source": [
        "**Preprocessing Step**\n",
        "\n",
        "Typically, the initial step in any project that involves reading and handling data is data preprocessing and cleansing.\n",
        "\n",
        "In our dataset, we expect the entries in the \"Weights,\" \"Prices,\" and \"Best Picks\" columns to be in the form of arrays of floats or integers, like this: [45, 40, 42, 38, 10]\n",
        "\n",
        "However, when you read each entry using pandas, they will be in a form of a string: \"[45 40 42 38 10]\"\n",
        "\n",
        "So we need to convert these strings into \"arrays of floats or integers.\" You can utilize the function provided below for this purpose:\n"
      ],
      "metadata": {
        "id": "1dq9VpZh2r2A"
      }
    },
    {
      "cell_type": "code",
      "execution_count": 43,
      "metadata": {
        "id": "BmUtgrBchaOz"
      },
      "outputs": [],
      "source": [
        "def string_to_list(string):\n",
        "\n",
        "  string_list = string.strip('[]').split()\n",
        "\n",
        "  float_list = [float(element) for element in string_list]\n",
        "\n",
        "  return float_list"
      ]
    },
    {
      "cell_type": "markdown",
      "source": [
        "Furthermore, it's possible that certain rows in the dataset contain empty values in specific columns. We also aim to eliminate these rows as they do not provide any useful information. We use dropna() function to do so:"
      ],
      "metadata": {
        "id": "CP1nkMb27A4n"
      }
    },
    {
      "cell_type": "code",
      "execution_count": 44,
      "metadata": {
        "id": "LT_iYgxhhaO0"
      },
      "outputs": [],
      "source": [
        "#Ignore the warning messages.\n",
        "\n",
        "dataset = dataset.dropna()\n",
        "\n",
        "dataset.Weights = dataset.Weights.apply(lambda x : string_to_list(x))\n",
        "dataset.Prices = dataset.Prices.apply(lambda x : string_to_list(x))\n",
        "dataset['Best picks'] = dataset['Best picks'].apply(lambda x : string_to_list(x))"
      ]
    },
    {
      "cell_type": "markdown",
      "source": [
        "Now it's time to implement the search algorithms. For each algorithm, a template is provided to you. You can modify this template if you want. But first you should try to go look at all the parameters used, as they are all important. You can also define any number of auxiliary functions you want.\n"
      ],
      "metadata": {
        "id": "61go4NeA7gZU"
      }
    },
    {
      "cell_type": "markdown",
      "source": [
        "**4. Generate and Test**\n",
        "\n",
        "We will attempt to determine the optimal solution using the generate and test method. First, we will generate all permutations of selected items. Then will reduce the selections with respect to the maximum weight (capacity). A selection is valid if the sum of selected item weights is at most capacity. From these valid selections, we will determine which selection produces the highest total price.\n",
        "\n",
        "This method should find an optimal solution, however it is limited in terms of practical applications. Generating every value within a domain is not always possible and may take longer than other approches.\n"
      ],
      "metadata": {
        "id": "0ER3-7di7ufy"
      }
    },
    {
      "cell_type": "code",
      "execution_count": 62,
      "metadata": {
        "id": "FqN5dVe7haO0"
      },
      "outputs": [],
      "source": [
        "#global variable to hold permutation table\n",
        "generatedValues = [[]]\n",
        "\n",
        "#Return a 2d array containing all binary permutations of length len\n",
        "#e.g. binary_permutation(2) = [[0, 0], [0, 1], [1, 0], [1, 1]]\n",
        "def binary_permutation(len):\n",
        "  numRows = pow(2, len)\n",
        "  arr = [[0 for i in range(len)] for j in range(numRows)]\n",
        "  period = 1\n",
        "  write = False #write head moves up or down depending on period length of column\n",
        "  counter = 0 #track period\n",
        "\n",
        "  for col in range(len-1, -1, -1):\n",
        "    counter = 0\n",
        "    write = False\n",
        "    for row in range(numRows):\n",
        "      if counter == period: #toggle write\n",
        "        write = not write\n",
        "        counter = 0\n",
        "      if write: #write head is down, update values for next period\n",
        "        arr[row][col] = 1\n",
        "      counter = counter + 1\n",
        "    period = period*2 #period is doubled between columns from right to left\n",
        "  return arr\n",
        "\n",
        "#get or generate new permutation table\n",
        "def getGeneratedValues(num):\n",
        "  global generatedValues\n",
        "  if num != len(generatedValues[0]): # generate new values if length has changed\n",
        "    generatedValues = binary_permutation(num)\n",
        "  return generatedValues\n",
        "\n",
        "# Weight Function\n",
        "# Return True iff items selected are within capacity\n",
        "def validWeight(weights, picks, capacity):\n",
        "  weight = 0\n",
        "\n",
        "  for i in range(len(weights)):\n",
        "    #print(\"weights, picks\", weights,picks)\n",
        "    weight = weight + (weights[i]*picks[i])\n",
        "  return weight <= capacity\n",
        "\n",
        "# Cost Function\n",
        "# Return total price of provided picks given their price\n",
        "def getPrice(prices, picks):\n",
        "  cost = 0\n",
        "  for i in range(len(prices)):\n",
        "    cost = cost + (prices[i]*picks[i])\n",
        "  return cost\n",
        "\n",
        "#try all solutions and return an optimal solution\n",
        "def gen_and_test(data):\n",
        "  arrayLength = len(data[0])\n",
        "  bestPicks = []\n",
        "  bestPrice = 0\n",
        "  currentWeight = 0\n",
        "  currentPrice = 0\n",
        "\n",
        "  generatedValues = getGeneratedValues(arrayLength) #get generated values\n",
        "\n",
        "  for currentPicks in generatedValues:\n",
        "    currentWeight = 0\n",
        "    for x in range(arrayLength):\n",
        "      if validWeight(data[0], currentPicks, data[2]):\n",
        "        currentPrice = getPrice(data[1], currentPicks)\n",
        "        if currentPrice > bestPrice: # Keep track of current best solution\n",
        "          bestPrice = currentPrice\n",
        "          bestPicks = currentPicks\n",
        "\n",
        "  return bestPrice, bestPicks"
      ]
    },
    {
      "cell_type": "code",
      "execution_count": 46,
      "metadata": {
        "id": "xQyI_WRShaO0"
      },
      "outputs": [],
      "source": [
        "solutions = []\n",
        "for _, row in dataset.iterrows():\n",
        "    target = row['Best price']\n",
        "    solution, indexes = gen_and_test(row)\n",
        "    solutions.append(1 if target == solution else 0)\n"
      ]
    },
    {
      "cell_type": "code",
      "execution_count": 47,
      "metadata": {
        "id": "yodeAYV3haO0",
        "colab": {
          "base_uri": "https://localhost:8080/"
        },
        "outputId": "22fb9b8e-749e-4a00-ae1e-cd9d7c949574"
      },
      "outputs": [
        {
          "output_type": "stream",
          "name": "stdout",
          "text": [
            "Accuracy of best prices found is 1.0\n"
          ]
        }
      ],
      "source": [
        "# Accuracy\n",
        "print('Accuracy of best prices found is', np.mean(solutions))"
      ]
    },
    {
      "cell_type": "markdown",
      "source": [
        "**Your Analysis:**\n",
        "\n",
        "By iterating through every possible selection, we can be confident that our best pick is an optimal solution. The solutions we discovered for best pick are precisely the best picks given by the dataset, thus we can be confident about the reliability of the choices provided by the Kaggle dataset.\n",
        "\n",
        "While we found an optimal solution for each case, it is worth noting that the generate and test method makes no use of heuristics, and therefore is more resource intensive than other approaches.\n"
      ],
      "metadata": {
        "id": "sgYGIJMd-atd"
      }
    },
    {
      "cell_type": "markdown",
      "source": [
        "------------------------------------------------------------------------------------------------"
      ],
      "metadata": {
        "id": "5rQYdUQx-dGi"
      }
    },
    {
      "cell_type": "markdown",
      "metadata": {
        "id": "z8_ipXOGhaO1"
      },
      "source": [
        "**5. Greedy Search**\n",
        "\n",
        "Next we will implement a greedy search algorithm. We will select the items with the highest cost first. If two items have the same cost, we will select the item with the lower weight. This process will repeat until no more items can be added without overflowing the capacity of the bag."
      ]
    },
    {
      "cell_type": "code",
      "execution_count": 91,
      "metadata": {
        "id": "bAfwGLDkhaO2"
      },
      "outputs": [],
      "source": [
        "# Note: This solution uses the following functions as defined in the generate and test section:\n",
        "# getPrice(prices, picks)\n",
        "# validWeight(weights, picks, capacity)\n",
        "\n",
        "# return a copy of array with array[itemNumber]=num\n",
        "def updateList(array, itemNumber, num=1):\n",
        "  newArray = array.copy()\n",
        "  newArray[itemNumber] = num\n",
        "  return newArray\n",
        "\n",
        "# Find repeated prices and return a list of indices for each tie ranked by prices and weights\n",
        "def tieBreaker(weights, prices):\n",
        "  pricesSet = set(prices)\n",
        "  tieData = []\n",
        "\n",
        "  if len(pricesSet) == len(prices): #there are no two items with the same price\n",
        "    return [], tieData\n",
        "\n",
        "  # find which values are repeated\n",
        "  duplicatedPrices = prices.copy()\n",
        "  for item in pricesSet:\n",
        "    duplicatedPrices.remove(item)\n",
        "  duplicatedPricesSet = set(duplicatedPrices)\n",
        "\n",
        "  # find the indices of repeated prices\n",
        "  for item in duplicatedPricesSet:\n",
        "    indicesArray = []\n",
        "    for i in range(len(prices)):\n",
        "      if prices[i] == item:\n",
        "        indicesArray.append(i)\n",
        "    tieData.append([item, indicesArray])\n",
        "\n",
        "  # sort indices for each tie by weight\n",
        "  for item in tieData:\n",
        "    for i in range(len(item[1])):\n",
        "      item[1].sort(key=lambda i: weights[i])\n",
        "\n",
        "  return duplicatedPricesSet, tieData\n",
        "\n",
        "# return a list of indices sorted first by price then by weight\n",
        "def getRanking(weights, prices):\n",
        "  sortedValues = sorted(prices, reverse=True) # sort values by price\n",
        "  rankedIndices = [] # list to hold ranked indices\n",
        "  duplicatedPrices, tieData = tieBreaker(weights, prices) # find ties\n",
        "  solvedTies = set()\n",
        "\n",
        "  for value in sortedValues: # rank all indices\n",
        "    if value not in solvedTies: # if tie has been solved do not continue\n",
        "      if value in duplicatedPrices: # tie case\n",
        "        solvedTies.add(value)\n",
        "        for item in tieData: # find tie data\n",
        "          if item[0] == value: # found tie data\n",
        "            for index in item[1]: # insert all indices of value in price\n",
        "              rankedIndices.append(index)\n",
        "      else: # price is unique (no ties), add to ranking\n",
        "        index = prices.index(value)\n",
        "        rankedIndices.append(index)\n",
        "  return rankedIndices\n",
        "\n",
        "def greedy(data):\n",
        "  currentPicks = [0]*len(data[0]) # array for storing our shopping list\n",
        "  rankedChoices = getRanking(data[0], data[1]) # rank prices from high to low, solve ties, and store their index in order\n",
        "\n",
        "  for i in rankedChoices:\n",
        "    if validWeight(data[0], updateList(currentPicks, i), data[2]): # check if next item can fit\n",
        "      currentPicks = updateList(currentPicks, i) # add item to cart\n",
        "\n",
        "  return getPrice(data[1], currentPicks), currentPicks\n"
      ]
    },
    {
      "cell_type": "code",
      "source": [
        "solutions_greedy = []\n",
        "for _, row in dataset.iterrows():\n",
        "    target = row['Best price']\n",
        "    solution, indexes = greedy(row)\n",
        "    solutions_greedy.append(1 if target == solution else 0)\n"
      ],
      "metadata": {
        "id": "QeS54aqAhwhU"
      },
      "execution_count": 49,
      "outputs": []
    },
    {
      "cell_type": "code",
      "source": [
        "print(\"Greedy Accuracy is\", np.mean(solutions_greedy))"
      ],
      "metadata": {
        "id": "xWqCDMs-h0SX",
        "colab": {
          "base_uri": "https://localhost:8080/"
        },
        "outputId": "5f300cdd-fc31-4d88-8e60-1a38b7b13c97"
      },
      "execution_count": 50,
      "outputs": [
        {
          "output_type": "stream",
          "name": "stdout",
          "text": [
            "Greedy Accuracy is 0.92063974086446\n"
          ]
        }
      ]
    },
    {
      "cell_type": "markdown",
      "source": [
        "**Your Analysis:**\n",
        "\n",
        "Unsurprisingly, the greedy search did not return all optimal solutions. However it was surprising how accurate the algorithm was given that it is prone to finding and \"getting stuck in\" local maximums."
      ],
      "metadata": {
        "id": "0DKep6e5-nuz"
      }
    },
    {
      "cell_type": "markdown",
      "source": [
        "------------------------------------------------------------------------------------------------"
      ],
      "metadata": {
        "id": "XGBWQqlK-lra"
      }
    },
    {
      "cell_type": "markdown",
      "source": [
        "**6. Simulated Annealing**\n",
        "\n",
        "Next we will implement the simulated annealing algorithm. In this process, we make a random change to our selection and accept the change if it results in a desirable result. A seemingly less desirable result may also be accepted at random and with respect to \"temperature\".\n",
        "\n",
        "The temperature starts with a high value and decreases with each iteration. A higher temperature increases the likelihood that a seemingly undesirable solution may be selected. This means that it will first explore many \"poor\" solutions. This is in an effort to escape from any local minima. However, the algorithm works, it will increasingly favor \"better\" solutions to (hopefully) reach a global maximum.\n",
        "\n",
        "In our implementation, \"energy\" will be represented as price, and larger values will be preferred over smaller values. This differs from the classic case where the goal is to reach the global minima.\n"
      ],
      "metadata": {
        "id": "PtDW2ja3R93S"
      }
    },
    {
      "cell_type": "code",
      "source": [
        "import random\n",
        "import math\n",
        "\n",
        "# Note: This solution uses the following functions as defined in the generate and test section:\n",
        "# getPrice(prices, picks)\n",
        "# validWeight(weights, picks, capacity)s]\n",
        "\n",
        "# acceptence function\n",
        "def accept(temperature, priceDifference):\n",
        "  if priceDifference>0: # positive values are always accepted as they indicate increase in total price\n",
        "    return True\n",
        "  else:\n",
        "    r = random.randint(0,1)\n",
        "    n = pow(math.e, priceDifference/temperature) # allow for variation in acceptence\n",
        "    if r < n:\n",
        "      return True # allow worse selection\n",
        "    else:\n",
        "      return False\n",
        "\n",
        "# given a list of binary values, return a list with one bit flipped\n",
        "def flipRandomBit(array):\n",
        "  index = random.choice(range(len(array))) # choose an index to alter\n",
        "  out = array.copy()\n",
        "  out[index] = (out[index]+1)%2 # flip bit\n",
        "  return out\n",
        "\n",
        "# return a new selection by flipping a random bit\n",
        "# if capacity and weights are provided, only produce valid solutions\n",
        "def modifyPicks(picks, weights=[], capacity=-1, acceptAny=False):\n",
        "\n",
        "  newPicks = flipRandomBit(picks)\n",
        "\n",
        "  # case 1: produce any new picks\n",
        "  if capacity < 0 or acceptAny:\n",
        "    return newPicks\n",
        "\n",
        "  # case 2: produce new valid new picks\n",
        "  while not validWeight(newPicks, weights, capacity):\n",
        "    newPicks = flipRandomBit(picks)\n",
        "  return newPicks\n",
        "\n",
        "def simulated_annealing(data, N, initial_temperature, cooling_rate):\n",
        "  temperature = initial_temperature\n",
        "  currentPicks = greedy(data)[1] # start with a heuristic solution\n",
        "  currentPrice = getPrice(data[1], currentPicks)\n",
        "\n",
        "  newPicks = []\n",
        "  newPrice = 0\n",
        "  temperatureDifference = 0\n",
        "\n",
        "  while (N > 0):\n",
        "    newPicks = modifyPicks(currentPicks, data[0], data[2]) # get a new pick list\n",
        "    newPrice = getPrice(data[1], newPicks)\n",
        "    priceDifference = newPrice - currentPrice\n",
        "    if accept(temperature, priceDifference): # acceptor function\n",
        "      currentPicks = newPicks\n",
        "      currentPrice = newPrice\n",
        "    N = N - 1\n",
        "    temperature = temperature * cooling_rate # reduce temperature by cooling rate\n",
        "\n",
        "  return getPrice(data[1], currentPicks), currentPicks\n"
      ],
      "metadata": {
        "id": "7rFhuXedSF_3"
      },
      "execution_count": 63,
      "outputs": []
    },
    {
      "cell_type": "code",
      "source": [
        "solutions_sa = []\n",
        "for _, row in dataset.iterrows():\n",
        "    target = row['Best price']\n",
        "    solution, indexes = simulated_annealing(row, N = 1, initial_temperature=.10, cooling_rate=0.99)\n",
        "    solutions_sa.append(1 if target == solution else 0)\n"
      ],
      "metadata": {
        "id": "mAWQLNsESNIZ"
      },
      "execution_count": 52,
      "outputs": []
    },
    {
      "cell_type": "code",
      "source": [
        "print(\"Simulated Annealing Accuracy is\", np.mean(solutions_sa))"
      ],
      "metadata": {
        "id": "jUdWEABkhkih",
        "colab": {
          "base_uri": "https://localhost:8080/"
        },
        "outputId": "a891ff85-d380-4c1a-c7c7-193efcf22ec5"
      },
      "execution_count": 53,
      "outputs": [
        {
          "output_type": "stream",
          "name": "stdout",
          "text": [
            "Simulated Annealing Accuracy is 0.4506529000911023\n"
          ]
        }
      ]
    },
    {
      "cell_type": "markdown",
      "source": [
        "**Your Analysis:**\n",
        "\n",
        "Ti = .1, N = 10, cooling_rate = .95, accuracy = 0.20498026116003645\n",
        "\n",
        "Ti = .1, N = 100, cooling_rate = .95, accuracy = 0.6160542565036947\n",
        "\n",
        "Ti = .1, N = 1000, cooling_rate = .95, accuracy = 0.7374228160745014\n",
        "\n",
        "Ti = .1, N = 1000, cooling_rate = .99, accuracy = 0.8951310861423221\n",
        "\n",
        "Ti = .1, N = 5000, cooling_rate = .99, accuracy = 0.8901710699463509, time: 11min\n",
        "\n",
        "Ti = .1, N= 5000, cooling_rate = .95, accuracy = 0.743597530114384, time: 11min\n",
        "\n",
        "Ti = .5, N = 1000, cooling_rate = .99, accuracy = 0.8955359854236259, time 2min\n",
        "\n",
        "Ti = .5, N = 1000, cooling_rate = .95, accuracy = 0.7351958700273307, time: 3min\n",
        "\n",
        "Ti = .25, N = 1000, cooling_rate = .99, accuracy = 0.8887539224617876,time = 2min\n",
        "\n",
        "Ti = .10, N = 1000, cooling_rate = .999, accuracy = 0.1827108006883288,time = 2min\n",
        "\n",
        "Ti = .10, N = 1000, cooling_rate = .99, accurace = 0.895333535782974, time 2min"
      ],
      "metadata": {
        "id": "PvvpYOOr-qqr"
      }
    },
    {
      "cell_type": "markdown",
      "source": [
        "------------------------------------------------------------------------------------------------"
      ],
      "metadata": {
        "id": "n0QXt7Ys-rCc"
      }
    },
    {
      "cell_type": "markdown",
      "source": [
        "**7. Genetic Algorithm**\n",
        "\n",
        "Give a description... Also, make sure that you put comments using your own words in the code to show that you understand the code that you are submitting."
      ],
      "metadata": {
        "id": "RHYjBUvVhtGV"
      }
    },
    {
      "cell_type": "code",
      "source": [
        "import random\n",
        "import bisect\n",
        "\n",
        "# Determine if anything else can fit without overflow\n",
        "def underWeight(weights, picks, capacity):\n",
        "  for i in range(len(picks)):\n",
        "    if picks[i] == 0:\n",
        "      if validWeight(weights, updateList(picks, i), capacity):\n",
        "        return True\n",
        "  return False\n",
        "\n",
        "def calculate_fitness(picks, prices, weights, capacity):\n",
        "  fitnessWeights = [2,1,1,1,1] # not finished\n",
        "  includeFactor = [True, True, True, True] # implement me if runtime is too long\n",
        "  fitness = 100\n",
        "  bagValue = getPrice(prices, picks)\n",
        "  validWeightBool = validWeight(weights, picks, capacity)\n",
        "  underWeightBool = underWeight(weights, picks, capacity)\n",
        "\n",
        "  # clean this  up. ############################################################\n",
        "\n",
        "  # overweight? not fit.\n",
        "  if not validWeightBool:\n",
        "    fitness = fitness + fitnessWeights[0]*100\n",
        "    fitness = fitness + 10*(getPrice(weights, picks)/capacity)\n",
        "  # can another item fit? not fit.\n",
        "  elif underWeightBool:\n",
        "    fitness = fitness + fitnessWeights[1]*100\n",
        "    # encourage lower overall weights\n",
        "    # or encourage higher? i dont know whats better.\n",
        "    fitness = fitness + 10*(getPrice(weights, picks)/capacity)\n",
        "\n",
        "  # is price less than greedy? not fit.\n",
        "  greedyPrice = greedy([weights, prices, capacity])[0]\n",
        "  if greedyPrice == bagValue and validWeightBool:\n",
        "    #fitness = fitness*.99\n",
        "    pass\n",
        "  elif bagValue == 0:\n",
        "    fitness = fitness + 200\n",
        "  # worse solutions are proportionally punished\n",
        "  elif greedyPrice > bagValue:\n",
        "    fitness = fitness * (greedyPrice/bagValue)\n",
        "    if underWeightBool:\n",
        "      fitness = fitness + 100\n",
        "  # did we do better than greedy? lets encourage this proportionally to how much better we did\n",
        "  elif greedyPrice < bagValue and validWeightBool:\n",
        "    fitness = 100 * (greedyPrice/bagValue) # implement weight function\n",
        "  return fitness\n",
        "\n",
        "# Function to test how different weights affect fitness function\n",
        "def fitnessAlgoAnalyzer():\n",
        "  picksTest = binary_permutation(3)\n",
        "  pricesTest = [10, 20, 30]\n",
        "  weightsTest = [5, 10, 10]\n",
        "  capacityTest = 20\n",
        "  report = []\n",
        "  report.append([\"Gen and test (price, picks)\",gen_and_test([weightsTest,pricesTest,capacityTest])])\n",
        "  report.append([\"Greedy (price, picks):\", greedy([weightsTest,pricesTest,capacityTest])])\n",
        "\n",
        "  for testPick in picksTest:\n",
        "    line = []\n",
        "    line.append([\"Pick:\",testPick])\n",
        "    line.append([\"Price:\",getPrice(pricesTest,testPick)])\n",
        "    line.append([\"Overweight:\", not validWeight(weightsTest, testPick, capacityTest)])\n",
        "    line.append([\"Underweight:\", underWeight(weightsTest, testPick, capacityTest)])\n",
        "    line.append([\"Fitness:\", calculate_fitness(testPick,pricesTest,weightsTest,capacityTest)])\n",
        "    report.append(line)\n",
        "  for line in report:\n",
        "    print(line)\n",
        "#fitnessAlgoAnalyzer()\n",
        "\n",
        "\n",
        "\n",
        "# you can use one point crossover .point can be fixed or variable\n",
        "# can also explore other crossovers\n",
        "# explore different rates for crossover and mutation.\n",
        "# analysis: explore 2 other rates (one lower and one higher) for each, whats the impact?\n",
        "\n",
        "def crossover(parent1, parent2, cross_rate):\n",
        "  if random.random() < cross_rate:\n",
        "    n = random.randint(1, len(parent1) - 1)\n",
        "    child1 = parent1[:n] + parent2[n:]\n",
        "    child2 = parent2[:n] + parent1[n:]\n",
        "    return child1, child2\n",
        "  else:\n",
        "    return parent1, parent2\n",
        "\n",
        "def applyCrossover(population, crossRate):\n",
        "  indices = []\n",
        "  newPopulation = []\n",
        "\n",
        "  #for i in range(len(population)):\n",
        "  #  indices.append(i)\n",
        "\n",
        "  for i in range(len(population)//2):\n",
        "    parent1 = population.pop(random.randint(0, len(population)-1))\n",
        "    parent2 = population.pop(random.randint(0, len(population)-1))\n",
        "    child1, child2 = crossover(parent1, parent2, crossRate)\n",
        "    newPopulation.append(child1)\n",
        "    newPopulation.append(child2)\n",
        "\n",
        "  if len(population) > 0:\n",
        "    newPopulation.append(population[0])\n",
        "\n",
        "  return newPopulation\n",
        "\n",
        "\n",
        "def mutation(child, mut_rate):\n",
        "  if random.random() < mut_rate:\n",
        "    child = flipRandomBit(child)\n",
        "  return child\n",
        "\n",
        "def applyMutation(population, mutationRate):\n",
        "  newPopulation = []\n",
        "\n",
        "  for individual in population:\n",
        "    newPopulation.append(mutation(individual, mutationRate))\n",
        "\n",
        "  return newPopulation\n",
        "\n",
        "# return the liklihood of selecting the nth best individual given probability p\n",
        "def getSelectionProbability(n, p):\n",
        "  return p*(pow((1-p),n))\n",
        "\n",
        "# run tournament cycle\n",
        "def runTournament(data, participants, probability):\n",
        "\n",
        "  if len(participants)==0:\n",
        "    return None\n",
        "\n",
        "  rankedParticipants = []\n",
        "  for individual in participants:\n",
        "    fitness = calculate_fitness(individual, data[1], data[0], data[2])\n",
        "    bisect.insort(rankedParticipants, [fitness, individual], key=lambda x: x[0])\n",
        "\n",
        "  # deterministic approach\n",
        "  if probability == 1:\n",
        "    return rankedParticipants[0][1]\n",
        "\n",
        "  # non-deterministic, get weights\n",
        "  selectionWeights = []\n",
        "  for i in range(len(rankedParticipants)):\n",
        "    selectionWeights.append(getSelectionProbability(i, probability))\n",
        "  return random.choices(rankedParticipants, weights=selectionWeights, cum_weights=None, k=1)[0][1]\n",
        "\n",
        "def randomSample(population, size):\n",
        "  used = []\n",
        "  sample = []\n",
        "  index = 0\n",
        "  if len(population)<size:\n",
        "    return population\n",
        "  while len(sample) != size:\n",
        "    index = random.choice(range(size))\n",
        "    if index not in used:\n",
        "      used.append(index)\n",
        "      sample.append(population[index])\n",
        "  return sample\n",
        "\n",
        "def getSelectionByTournament(data, population, populationSize, tournamentSize, probability, replacement=False):\n",
        "  winner = []\n",
        "  workingPopulation = population.copy()\n",
        "  newPopulation = []\n",
        "#or len(workingPopulation) ==0\n",
        "  while len(newPopulation) < populationSize :\n",
        "    participants = randomSample(workingPopulation, tournamentSize)\n",
        "    winner = runTournament(data, participants, probability)\n",
        "    if winner == None:\n",
        "      break\n",
        "    newPopulation.append(winner)\n",
        "    if not replacement:\n",
        "      workingPopulation.remove(winner)\n",
        "\n",
        "  return newPopulation\n",
        "\n",
        "\n",
        "#print(randomSample(testPop, 10))\n",
        "#print(\"best sol:\",gen_and_test(testData))\n",
        "#selection = getSelectionByTournament(testData,testPop,3,10,.8)\n",
        "#print(\"selection len:\",len(selection),\"pop len:\",len(testPop))\n",
        "#print(\"after tornament:\", selection)\n",
        "#print(runTournament(testData, testPop, .8))\n",
        "#Generate a population X(t) of M individuals\n",
        "\n",
        "#repeat\n",
        "\t#Select a subset according to fitness\n",
        "\t#Perform variations on these individuals to generate new individuals in X(t+1)\n",
        "#Untill stopping condition\n",
        "def genetic_algorithm(data, population_size, num_generations, mut_rate, cross_rate, tournament_size):\n",
        "  population = randomSample(binary_permutation(5), population_size)\n",
        "\n",
        "  for i in range(num_generations):\n",
        "    #print(\"Pop length before torny:\",len(population))\n",
        "    population = getSelectionByTournament(data, population, population_size, tournament_size, .8, False)\n",
        "    #print(\"Pop length before crossover:\",len(population))\n",
        "    population = applyCrossover(population, cross_rate)\n",
        "    #print(\"Pop length before mutation:\",len(population))\n",
        "    population = applyMutation(population, mut_rate)\n",
        "\n",
        "  best_solution = getSelectionByTournament(data, population, population_size, tournament_size, 1)[0]\n",
        "  best_solution_price = getPrice(data[1], best_solution)\n",
        "\n",
        "  #print(getSelectionByTournament(data, population, population_size, tournament_size, 1))\n",
        "  #print(\"ga algo:\",best_solution)\n",
        "  #print(\"gen and test:\", gen_and_test(data))\n",
        "\n",
        "\n",
        "  return best_solution_price, best_solution\n",
        "\n",
        "#testData = [[5,10,20,10,50],[10,5,20,10,100],30]\n",
        "#genetic_algorithm(testData,population_size=50,num_generations=50,mut_rate=.1,cross_rate=.7,tournament_size=5)"
      ],
      "metadata": {
        "id": "5kGKKUN8iP30"
      },
      "execution_count": 281,
      "outputs": []
    },
    {
      "cell_type": "code",
      "source": [
        "solutions_ga = []\n",
        "for _, row in dataset.iterrows():\n",
        "    target = row['Best price']\n",
        "    solution, indexes = genetic_algorithm(row, population_size = 50, num_generations = 50, mut_rate = 0.1, cross_rate = 0.7, tournament_size = 5)\n",
        "    solutions_ga.append(1 if target == solution else 0)\n"
      ],
      "metadata": {
        "id": "5b4hBtUijZzg"
      },
      "execution_count": null,
      "outputs": []
    },
    {
      "cell_type": "code",
      "source": [
        "print(\"Genetic Algorithm Accuracy is\", np.mean(solutions_ga))"
      ],
      "metadata": {
        "id": "hJ3ceIHSs-W-",
        "colab": {
          "base_uri": "https://localhost:8080/",
          "height": 178
        },
        "outputId": "d8b114fa-c2a2-4dcb-906c-dc711226f557"
      },
      "execution_count": 1,
      "outputs": [
        {
          "output_type": "error",
          "ename": "NameError",
          "evalue": "ignored",
          "traceback": [
            "\u001b[0;31m---------------------------------------------------------------------------\u001b[0m",
            "\u001b[0;31mNameError\u001b[0m                                 Traceback (most recent call last)",
            "\u001b[0;32m<ipython-input-1-85f3663e14a0>\u001b[0m in \u001b[0;36m<cell line: 1>\u001b[0;34m()\u001b[0m\n\u001b[0;32m----> 1\u001b[0;31m \u001b[0mprint\u001b[0m\u001b[0;34m(\u001b[0m\u001b[0;34m\"Genetic Algorithm Accuracy is\"\u001b[0m\u001b[0;34m,\u001b[0m \u001b[0mnp\u001b[0m\u001b[0;34m.\u001b[0m\u001b[0mmean\u001b[0m\u001b[0;34m(\u001b[0m\u001b[0msolutions_ga\u001b[0m\u001b[0;34m)\u001b[0m\u001b[0;34m)\u001b[0m\u001b[0;34m\u001b[0m\u001b[0;34m\u001b[0m\u001b[0m\n\u001b[0m",
            "\u001b[0;31mNameError\u001b[0m: name 'np' is not defined"
          ]
        }
      ]
    },
    {
      "cell_type": "markdown",
      "source": [
        "**Your Analysis:**"
      ],
      "metadata": {
        "id": "5yn8KLah-xGF"
      }
    },
    {
      "cell_type": "markdown",
      "source": [
        "------------------------------------------------------------------------------------------------"
      ],
      "metadata": {
        "id": "ekb0LOgF-xUN"
      }
    },
    {
      "cell_type": "markdown",
      "source": [
        "**8. Comparative Study**\n",
        "\n",
        "description  +  tables/figures"
      ],
      "metadata": {
        "id": "NdO_H-4t-6mg"
      }
    },
    {
      "cell_type": "markdown",
      "source": [
        "--------------------------------------------------------------------------\n"
      ],
      "metadata": {
        "id": "4Ypp7TpkAIUe"
      }
    },
    {
      "cell_type": "markdown",
      "source": [
        "**9. Conclusion**\n",
        "\n",
        "Comment on the empirical study, its results, and give ideas for future work."
      ],
      "metadata": {
        "id": "8Ikmq-si_23Y"
      }
    },
    {
      "cell_type": "markdown",
      "source": [
        "--------------------------------------------------------------------------\n"
      ],
      "metadata": {
        "id": "41s8gvCNABDy"
      }
    },
    {
      "cell_type": "markdown",
      "source": [
        "# **10. References**\n",
        "\n",
        "Make sure you provide references to ALL sources used (articles, code, algorithms).\n",
        "\n",
        "gen and test: https://www.geeksforgeeks.org/python-using-2d-arrays-lists-the-right-way/\n",
        "\n",
        "greedy: https://docs.python.org/3/howto/sorting.html\n",
        "        https://stackoverflow.com/questions/12897374/get-unique-values-from-a-list-in-python\n",
        "\n",
        "SA: https://www.baeldung.com/cs/simulated-annealing\n",
        "\n",
        "GA: https://www.baeldung.com/cs/genetic-algorithms-crossover-probability-and-mutation-probability\n",
        "https://ai.stackexchange.com/questions/9105/how-to-create-a-good-fitness-function\n",
        "https://stackoverflow.com/questions/8024571/insert-an-item-into-sorted-list-in-python\n"
      ],
      "metadata": {
        "id": "PtbOgI1q_9a0"
      }
    },
    {
      "cell_type": "markdown",
      "source": [
        "**Hint:** To share a link to your colab notebook, click on \"share\" on the top right. Then, under *General access* , change *Restricted* to \"Anyone with the link\"."
      ],
      "metadata": {
        "id": "zF9cuDJqF75q"
      }
    }
  ],
  "metadata": {
    "kernelspec": {
      "display_name": "Python 3",
      "language": "python",
      "name": "python3"
    },
    "language_info": {
      "codemirror_mode": {
        "name": "ipython",
        "version": 3
      },
      "file_extension": ".py",
      "mimetype": "text/x-python",
      "name": "python",
      "nbconvert_exporter": "python",
      "pygments_lexer": "ipython3",
      "version": "3.9.10"
    },
    "orig_nbformat": 4,
    "colab": {
      "provenance": [],
      "toc_visible": true,
      "include_colab_link": true
    }
  },
  "nbformat": 4,
  "nbformat_minor": 0
}